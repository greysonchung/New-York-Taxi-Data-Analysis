{
 "cells": [
  {
   "cell_type": "markdown",
   "source": [
    "Code to download 2018 csv files from the TLC website"
   ],
   "metadata": {}
  },
  {
   "cell_type": "code",
   "execution_count": 1,
   "source": [
    "# The following code is fetched from https://github.com/akiratwang/MAST30034_Python\n",
    "# and modified by Haonan Zhong\n",
    "\n",
    "from os.path import getsize\n",
    "from urllib.request import urlretrieve\n",
    "\n",
    "# Output directory\n",
    "output_dir = \"../raw_data\"\n",
    "\n",
    "# download 2018 yellow taxi trip data\n",
    "fname = \"yellow_tripdata_2018\"\n",
    "\n",
    "# change range(x, y) to be the months you want\n",
    "for m in list([1, 2, 7, 8]):\n",
    "    month = str(m).zfill(2)\n",
    "    out = f'{fname}-{month}.csv'\n",
    "    temp = f'{\"yellow_2018\"}_{month}.csv'\n",
    "    url = f\"https://s3.amazonaws.com/nyc-tlc/trip+data/{out}\"\n",
    "    urlretrieve(url, f\"{output_dir}/{temp}\")\n",
    "\n",
    "    print(f\"Done downloading {temp} to {output_dir} with size {getsize(f'{output_dir}/{temp}') / 1073741824:.2f}GB\")"
   ],
   "outputs": [
    {
     "output_type": "stream",
     "name": "stdout",
     "text": [
      "Done downloading yellow_2018_01.csv to ../raw_data with size 0.72GB\n",
      "Done downloading yellow_2018_02.csv to ../raw_data with size 0.70GB\n",
      "Done downloading yellow_2018_07.csv to ../raw_data with size 0.64GB\n",
      "Done downloading yellow_2018_08.csv to ../raw_data with size 0.64GB\n"
     ]
    }
   ],
   "metadata": {
    "ExecuteTime": {
     "start_time": "2021-07-04T02:08:29.908Z"
    }
   }
  }
 ],
 "metadata": {
  "kernelspec": {
   "name": "python3",
   "display_name": "Python 3.8.8 64-bit ('base': conda)"
  },
  "language_info": {
   "codemirror_mode": {
    "name": "ipython",
    "version": 3
   },
   "file_extension": ".py",
   "mimetype": "text/x-python",
   "name": "python",
   "nbconvert_exporter": "python",
   "pygments_lexer": "ipython3",
   "version": "3.8.8"
  },
  "latex_envs": {
   "LaTeX_envs_menu_present": true,
   "autoclose": false,
   "autocomplete": true,
   "bibliofile": "biblio.bib",
   "cite_by": "apalike",
   "current_citInitial": 1,
   "eqLabelWithNumbers": true,
   "eqNumInitial": 1,
   "hotkeys": {
    "equation": "Ctrl-E",
    "itemize": "Ctrl-I"
   },
   "labels_anchors": false,
   "latex_user_defs": false,
   "report_style_numbering": false,
   "user_envs_cfg": false
  },
  "toc": {
   "base_numbering": 1,
   "nav_menu": {},
   "number_sections": true,
   "sideBar": true,
   "skip_h1_title": false,
   "title_cell": "Table of Contents",
   "title_sidebar": "Contents",
   "toc_cell": false,
   "toc_position": {},
   "toc_section_display": true,
   "toc_window_display": false
  },
  "varInspector": {
   "cols": {
    "lenName": 16,
    "lenType": 16,
    "lenVar": 40
   },
   "kernels_config": {
    "python": {
     "delete_cmd_postfix": "",
     "delete_cmd_prefix": "del ",
     "library": "var_list.py",
     "varRefreshCmd": "print(var_dic_list())"
    },
    "r": {
     "delete_cmd_postfix": ") ",
     "delete_cmd_prefix": "rm(",
     "library": "var_list.r",
     "varRefreshCmd": "cat(var_dic_list()) "
    }
   },
   "types_to_exclude": [
    "module",
    "function",
    "builtin_function_or_method",
    "instance",
    "_Feature"
   ],
   "window_display": false
  },
  "interpreter": {
   "hash": "dca0ade3e726a953b501b15e8e990130d2b7799f14cfd9f4271676035ebe5511"
  }
 },
 "nbformat": 4,
 "nbformat_minor": 5
}