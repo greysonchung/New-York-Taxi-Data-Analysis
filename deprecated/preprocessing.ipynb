{
 "cells": [
  {
   "cell_type": "markdown",
   "source": [
    "# MAST30034 Applied Data Science Project 1 Preprocessing\n",
    "\n",
    "Student Name: Haonan Zhong\n",
    "\n",
    "Student ID: 867492"
   ],
   "metadata": {}
  },
  {
   "cell_type": "code",
   "execution_count": 1,
   "source": [
    "import pandas as pd\n",
    "import numpy as np\n",
    "import geopandas as gpd\n",
    "import warnings\n",
    "\n",
    "warnings.filterwarnings(\"ignore\")\n",
    "\n",
    "import folium\n",
    "import seaborn as sns\n",
    "import matplotlib.pyplot as plt"
   ],
   "outputs": [],
   "metadata": {}
  },
  {
   "cell_type": "markdown",
   "source": [
    "# Data Importing and Preprocessing"
   ],
   "metadata": {}
  },
  {
   "cell_type": "code",
   "execution_count": 2,
   "source": [
    "# read datasets\n",
    "yellow_01 = pd.read_csv('/Users/greysonchung/Documents/mast30034_2021_s2_project_1-greysonchung/raw_data/yellow_2018_01.csv')\n",
    "yellow_02 = pd.read_csv('/Users/greysonchung/Documents/mast30034_2021_s2_project_1-greysonchung/raw_data/yellow_2018_02.csv')\n",
    "yellow_07 = pd.read_csv('/Users/greysonchung/Documents/mast30034_2021_s2_project_1-greysonchung/raw_data/yellow_2018_07.csv')\n",
    "yellow_08 = pd.read_csv('/Users/greysonchung/Documents/mast30034_2021_s2_project_1-greysonchung/raw_data/yellow_2018_08.csv')\n",
    "\n",
    "# combine the monthly data as a season\n",
    "yellow_winter = pd.concat([yellow_01, yellow_02]).reset_index(drop=True)\n",
    "yellow_summer = pd.concat([yellow_07, yellow_08]).reset_index(drop=True)"
   ],
   "outputs": [],
   "metadata": {}
  },
  {
   "cell_type": "code",
   "execution_count": 3,
   "source": [
    "# remove invalid data\n",
    "\n",
    "# passenger == 0\n",
    "yellow_winter = yellow_winter[yellow_winter['passenger_count'] != 0]\n",
    "yellow_summer = yellow_summer[yellow_summer['passenger_count'] != 0]\n",
    "\n",
    "# trip_distance == 0\n",
    "yellow_winter = yellow_winter[yellow_winter['trip_distance'] != 0]\n",
    "yellow_summer = yellow_summer[yellow_summer['trip_distance'] != 0]\n",
    "\n",
    "# payment method other than cash and credit card\n",
    "yellow_winter = yellow_winter[(yellow_winter['payment_type'] != 3) & (yellow_winter['payment_type'] != 4) & (yellow_winter['payment_type'] != 5) & (yellow_winter['payment_type'] != 6)]\n",
    "yellow_summer = yellow_summer[(yellow_summer['payment_type'] != 3) & (yellow_summer['payment_type'] != 4) & (yellow_summer['payment_type'] != 5) & (yellow_summer['payment_type'] != 6)]\n",
    "\n",
    "# exclude instances with fare amount less than 2.5\n",
    "yellow_winter = yellow_winter[(yellow_winter['fare_amount'] >= 2.5)]\n",
    "yellow_summer = yellow_summer[(yellow_summer['fare_amount'] >= 2.5)]\n",
    "\n",
    "# total_amount > 0\n",
    "yellow_winter = yellow_winter[(yellow_winter['total_amount'] >= 2.5)]\n",
    "yellow_summer = yellow_summer[(yellow_summer['total_amount'] >= 2.5)]\n",
    "\n",
    "# PU and DO location id not within NYC taxi zone\n",
    "yellow_winter = yellow_winter[(yellow_winter['PULocationID'] >= 1) & (yellow_winter['PULocationID'] <= 263) & (yellow_winter['DOLocationID'] >= 1) & (yellow_winter['DOLocationID'] <= 263)]\n",
    "yellow_summer = yellow_summer[(yellow_summer['PULocationID'] >= 1) & (yellow_summer['PULocationID'] <= 263) & (yellow_summer['DOLocationID'] >= 1) & (yellow_summer['DOLocationID'] <= 263)]\n",
    "\n",
    "# invalid date\n",
    "yellow_winter = yellow_winter[(yellow_winter['tpep_pickup_datetime'] >= '2018-01-01 00:00:00') & (yellow_winter['tpep_pickup_datetime'] <= '2018-02-28 23:59:59') & (yellow_winter['tpep_dropoff_datetime'] >= '2018-01-01 00:00:00') & (yellow_winter['tpep_dropoff_datetime'] <= '2018-02-28 23:59:59')]\n",
    "yellow_summer = yellow_summer[(yellow_summer['tpep_pickup_datetime'] >= '2018-07-01 00:00:00') & (yellow_summer['tpep_pickup_datetime'] <= '2018-08-31 23:59:59') & (yellow_summer['tpep_dropoff_datetime'] >= '2018-07-01 00:00:00') & (yellow_summer['tpep_dropoff_datetime'] <= '2018-08-31 23:59:59')]"
   ],
   "outputs": [],
   "metadata": {}
  },
  {
   "cell_type": "code",
   "execution_count": 4,
   "source": [
    "PUDO_LocationID = ['PULocationID', 'DOLocationID']\n",
    "amount = ['fare_amount', 'tip_amount', 'total_amount']"
   ],
   "outputs": [],
   "metadata": {}
  },
  {
   "cell_type": "code",
   "execution_count": 5,
   "source": [
    "distance_boxplot = yellow_winter.boxplot(column='trip_distance')"
   ],
   "outputs": [
    {
     "output_type": "display_data",
     "data": {
      "text/plain": [
       "<Figure size 432x288 with 1 Axes>"
      ],
      "image/png": "[encoded data removed]"
     },
     "metadata": {
      "needs_background": "light"
     }
    }
   ],
   "metadata": {}
  },
  {
   "cell_type": "code",
   "execution_count": 6,
   "source": [
    "distance_boxplot = yellow_summer.boxplot(column='trip_distance')"
   ],
   "outputs": [
    {
     "output_type": "display_data",
     "data": {
      "text/plain": [
       "<Figure size 432x288 with 1 Axes>"
      ],
      "image/png": "[encoded data removed]"
     },
     "metadata": {
      "needs_background": "light"
     }
    }
   ],
   "metadata": {}
  },
  {
   "cell_type": "code",
   "execution_count": 7,
   "source": [
    "amount_boxplot = yellow_winter.boxplot(column=amount)"
   ],
   "outputs": [
    {
     "output_type": "display_data",
     "data": {
      "text/plain": [
       "<Figure size 432x288 with 1 Axes>"
      ],
      "image/png": "[encoded data removed]"
     },
     "metadata": {
      "needs_background": "light"
     }
    }
   ],
   "metadata": {}
  },
  {
   "cell_type": "code",
   "execution_count": 8,
   "source": [
    "Q1_winter = yellow_winter.quantile(0.25)\n",
    "Q3_winter = yellow_winter.quantile(0.75)\n",
    "Q1_summer = yellow_summer.quantile(0.25)\n",
    "Q3_summer = yellow_summer.quantile(0.75)\n",
    "IQR_winter = Q3_winter - Q1_winter\n",
    "IQR_summer = Q3_summer - Q1_summer"
   ],
   "outputs": [],
   "metadata": {}
  },
  {
   "cell_type": "code",
   "execution_count": 9,
   "source": [
    "cleaned_winter = yellow_winter[~((yellow_winter < (Q1_winter - 5 * IQR_winter)).any(axis=1))]\n",
    "cleaned_winter = yellow_winter[~((yellow_winter > (Q3_winter + 5 * IQR_winter)).any(axis=1))]\n",
    "cleaned_summer = yellow_summer[~((yellow_summer < (Q1_summer - 5 * IQR_summer)).any(axis=1))]\n",
    "cleaned_summer = yellow_summer[~((yellow_summer > (Q3_summer + 5 * IQR_summer)).any(axis=1))]"
   ],
   "outputs": [],
   "metadata": {}
  },
  {
   "cell_type": "code",
   "execution_count": 10,
   "source": [
    "cleaned_winter.boxplot(column=amount)"
   ],
   "outputs": [
    {
     "output_type": "execute_result",
     "data": {
      "text/plain": [
       "<AxesSubplot:>"
      ]
     },
     "metadata": {},
     "execution_count": 10
    },
    {
     "output_type": "display_data",
     "data": {
      "text/plain": [
       "<Figure size 432x288 with 1 Axes>"
      ],
      "image/png": "[encoded data removed]"
     },
     "metadata": {
      "needs_background": "light"
     }
    }
   ],
   "metadata": {}
  },
  {
   "cell_type": "code",
   "execution_count": 11,
   "source": [
    "cleaned_summer.boxplot(column=amount)"
   ],
   "outputs": [
    {
     "output_type": "execute_result",
     "data": {
      "text/plain": [
       "<AxesSubplot:>"
      ]
     },
     "metadata": {},
     "execution_count": 11
    },
    {
     "output_type": "display_data",
     "data": {
      "text/plain": [
       "<Figure size 432x288 with 1 Axes>"
      ],
      "image/png": "[encoded data removed]"
     },
     "metadata": {
      "needs_background": "light"
     }
    }
   ],
   "metadata": {}
  },
  {
   "cell_type": "markdown",
   "source": [
    "# Feature Engineering"
   ],
   "metadata": {}
  },
  {
   "cell_type": "code",
   "execution_count": 12,
   "source": [
    "# Create a new column that contains only pick up date\n",
    "cleaned_winter['date'] = pd.to_datetime(cleaned_winter['tpep_pickup_datetime'].str[0:10])\n",
    "cleaned_winter['time'] = cleaned_winter['tpep_pickup_datetime'].str[11:13] + \":00\"\n",
    "\n",
    "cleaned_summer['date'] = pd.to_datetime(cleaned_summer['tpep_pickup_datetime'].str[0:10])\n",
    "cleaned_summer['time'] = cleaned_summer['tpep_pickup_datetime'].str[11:13] + \":00\""
   ],
   "outputs": [],
   "metadata": {}
  },
  {
   "cell_type": "code",
   "execution_count": 13,
   "source": [
    "cleaned_winter['weekday'] = cleaned_winter['date'].dt.day_name()\n",
    "cleaned_summer['weekday'] = cleaned_summer['date'].dt.day_name()"
   ],
   "outputs": [],
   "metadata": {}
  },
  {
   "cell_type": "code",
   "execution_count": 14,
   "source": [
    "# save to feather\n",
    "cleaned_winter.reset_index().to_feather('/Users/greysonchung/Documents/mast30034_2021_s2_project_1-greysonchung/preprocessed_data/cleaned_winter.feather')\n",
    "cleaned_summer.reset_index().to_feather('/Users/greysonchung/Documents/mast30034_2021_s2_project_1-greysonchung/preprocessed_data/cleaned_summer.feather')"
   ],
   "outputs": [],
   "metadata": {}
  },
  {
   "cell_type": "code",
   "execution_count": 15,
   "source": [
    "weather = pd.read_csv('/Users/greysonchung/Documents/mast30034_2021_s2_project_1-greysonchung/raw_data/weather_2018.csv')\n",
    "weather = weather.drop(['TAVG', 'STATION', 'LATITUDE', 'LONGITUDE', 'ELEVATION'], axis=1)\n",
    "weather.to_feather('/Users/greysonchung/Documents/mast30034_2021_s2_project_1-greysonchung/preprocessed_data/cleaned_weather.feather')"
   ],
   "outputs": [],
   "metadata": {}
  }
 ],
 "metadata": {
  "orig_nbformat": 4,
  "language_info": {
   "name": "python",
   "version": "3.8.8",
   "mimetype": "text/x-python",
   "codemirror_mode": {
    "name": "ipython",
    "version": 3
   },
   "pygments_lexer": "ipython3",
   "nbconvert_exporter": "python",
   "file_extension": ".py"
  },
  "kernelspec": {
   "name": "python3",
   "display_name": "Python 3.8.8 64-bit ('base': conda)"
  },
  "interpreter": {
   "hash": "dca0ade3e726a953b501b15e8e990130d2b7799f14cfd9f4271676035ebe5511"
  }
 },
 "nbformat": 4,
 "nbformat_minor": 2
}